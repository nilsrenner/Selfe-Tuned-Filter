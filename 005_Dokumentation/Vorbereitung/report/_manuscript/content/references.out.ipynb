{
 "cells": [
  {
   "cell_type": "markdown",
   "metadata": {},
   "source": [
    "# \n",
    "\n",
    "# References"
   ],
   "id": "736c0d7d-1bfd-43e2-bb63-84baf3ffdb24"
  }
 ],
 "nbformat": 4,
 "nbformat_minor": 5,
 "metadata": {}
}
